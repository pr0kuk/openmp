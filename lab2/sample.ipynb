{
 "cells": [
  {
   "cell_type": "code",
   "execution_count": 1,
   "id": "76cc6867",
   "metadata": {},
   "outputs": [],
   "source": [
    "import numpy as np\n",
    "import math\n",
    "Q = 3\n",
    "N = 2**Q-1\n",
    "h = 1/N\n",
    "h2 = h * h\n",
    "err = 10\n",
    "err_p = 1e-3"
   ]
  },
  {
   "cell_type": "code",
   "execution_count": 9,
   "id": "23cd95cb",
   "metadata": {},
   "outputs": [],
   "source": [
    "def geterr(yn, y):\n",
    "    return sum((yn-y)**2)**0.5\n",
    "def getf(y):\n",
    "    fn = np.ones(N)\n",
    "    fn[0] = 1\n",
    "    fn[N-1] = 1\n",
    "    for i in range(1,N-1):\n",
    "        fn[i] = (math.exp(y[i])+(math.exp(y[i+1])- 2*math.exp(y[i]) + math.exp(y[i-1]))/12)\n",
    "    return fn\n",
    "def iter(M, y):\n",
    "    data = M.copy()\n",
    "    yn = y.copy()\n",
    "    vf = getf(y)\n",
    "    nn = N\n",
    "    low = 2\n",
    "    stride = 1\n",
    "    while(nn > 1):\n",
    "        for i in range(low-1, N, stride * 2):\n",
    "            alpha = -data[i][i-1] / data[i - stride][i-stride]\n",
    "            gamma = -data[i][i+1] / data[i + stride][i+stride]\n",
    "            if (i - stride >= 1):\n",
    "                data[i][i-1] = alpha * data[i - stride][i-stride-1]\n",
    "            data[i][i] = alpha * data[i - stride][i-stride+1] + data[i][i] + gamma * data[i + stride][i+stride-1]\n",
    "            if (i + stride < N - 1):\n",
    "                data[i][i+1] = gamma * data[i + stride][i+stride+1]\n",
    "            vf[i] = alpha * vf[i - stride] + vf[i] + gamma * vf[i + stride]\n",
    "        nn = nn//2\n",
    "        low = low * 2\n",
    "        stride = stride * 2\n",
    "\n",
    "    yn[N//2] = vf[N//2] / data[N//2][N//2];\n",
    "    stride = stride // 2\n",
    "    while (stride >= 1):\n",
    "        for i in range(stride - 1, N, stride * 2):\n",
    "            yn[i] = (vf[i]\n",
    "            - (data[i][i-1] * yn[i - stride] if i- stride > 0 else 0.0)\n",
    "            - (data[i][i+1] * yn[i + stride] if i +stride < N  else 0.0)\n",
    "            ) / data[i][i]\n",
    "        stride = stride // 2\n",
    "    return yn\n",
    "\n",
    "def init_M():\n",
    "    M = np.zeros((N, N))\n",
    "    M[0][0] = 1\n",
    "    M[N-1][N-1] = 1\n",
    "    for i in range(1,N-1):\n",
    "        M[i][i] = -2 /h2\n",
    "        if (i > 0):\n",
    "            M[i][i-1] = 1 /h2\n",
    "        if (i < N - 1):\n",
    "            M[i][i+1] = 1 /h2\n",
    "    return M\n",
    "\n",
    "def prep():\n",
    "    return np.ones(N), np.ones(N), getf(np.ones(N)), init_M()"
   ]
  },
  {
   "cell_type": "code",
   "execution_count": 10,
   "id": "26484e64",
   "metadata": {},
   "outputs": [
    {
     "name": "stdout",
     "output_type": "stream",
     "text": [
      "[1.         0.88169722 0.81292288 0.79034587 0.81292288 0.88169722\n",
      " 1.        ]\n"
     ]
    }
   ],
   "source": [
    "y,yn,f,M = prep()\n",
    "\n",
    "for j in range(10):\n",
    "    yn = iter(M, y)\n",
    "    err = geterr(yn, y)\n",
    "    y = yn.copy()\n",
    "\n",
    "print(y)"
   ]
  },
  {
   "cell_type": "code",
   "execution_count": 11,
   "id": "8989c523",
   "metadata": {},
   "outputs": [
    {
     "name": "stdout",
     "output_type": "stream",
     "text": [
      "[1.         0.88169722 0.81292288 0.79034587 0.81292288 0.88169722\n",
      " 1.        ]\n"
     ]
    }
   ],
   "source": [
    "y,yn,f,M = prep()\n",
    "\n",
    "for j in range(10):\n",
    "    yn = np.linalg.solve(M, f)\n",
    "    f = getf(yn)\n",
    "    err = geterr(yn, y)\n",
    "    y = yn.copy()\n",
    "\n",
    "print(y)"
   ]
  },
  {
   "cell_type": "code",
   "execution_count": 12,
   "id": "b5e0922e",
   "metadata": {
    "scrolled": true
   },
   "outputs": [
    {
     "name": "stdout",
     "output_type": "stream",
     "text": [
      "[1.         0.86131215 0.77809944 0.75036187 0.77809944 0.86131215\n",
      " 1.        ]\n",
      "[1.         0.86131215 0.77809944 0.75036187 0.77809944 0.86131215\n",
      " 1.        ]\n"
     ]
    }
   ],
   "source": [
    "y,yn,f,M = prep()\n",
    "print(iter(M, y))\n",
    "print(np.linalg.solve(M, getf(y)))"
   ]
  }
 ],
 "metadata": {
  "kernelspec": {
   "display_name": "Python 3 (ipykernel)",
   "language": "python",
   "name": "python3"
  },
  "language_info": {
   "codemirror_mode": {
    "name": "ipython",
    "version": 3
   },
   "file_extension": ".py",
   "mimetype": "text/x-python",
   "name": "python",
   "nbconvert_exporter": "python",
   "pygments_lexer": "ipython3",
   "version": "3.9.7"
  }
 },
 "nbformat": 4,
 "nbformat_minor": 5
}
